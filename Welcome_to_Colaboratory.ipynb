{
  "nbformat": 4,
  "nbformat_minor": 0,
  "metadata": {
    "colab": {
      "name": "Welcome to Colaboratory",
      "provenance": [],
      "collapsed_sections": [],
      "toc_visible": true,
      "include_colab_link": true
    },
    "kernelspec": {
      "display_name": "Python 3",
      "name": "python3"
    }
  },
  "cells": [
    {
      "cell_type": "markdown",
      "metadata": {
        "id": "view-in-github",
        "colab_type": "text"
      },
      "source": [
        "<a href=\"https://colab.research.google.com/github/cesouza-ufsm/dinamica-estrutural/blob/main/Welcome_to_Colaboratory.ipynb\" target=\"_parent\"><img src=\"https://colab.research.google.com/assets/colab-badge.svg\" alt=\"Open In Colab\"/></a>"
      ]
    },
    {
      "cell_type": "markdown",
      "metadata": {
        "id": "BQ-ID2a5jhQl"
      },
      "source": [
        "# New section"
      ]
    },
    {
      "cell_type": "code",
      "metadata": {
        "id": "HFQI9uGQjrQs"
      },
      "source": [
        ""
      ],
      "execution_count": null,
      "outputs": []
    },
    {
      "cell_type": "markdown",
      "metadata": {
        "id": "iwOcs1WsjqGb"
      },
      "source": [
        "# Dynamics - structural\n"
      ]
    },
    {
      "cell_type": "code",
      "metadata": {
        "id": "tspOjVKjjlDp"
      },
      "source": [
        "#!/usr/bin/env python3\n",
        "\n",
        "import numpy as np\n",
        "import matplotlib.pyplot as plt\n",
        "\n",
        "from numpy import linalg as la\n",
        "from numpy.linalg import inv\n",
        "from math import pi as Pi\n",
        "from math import floor\n",
        "from scipy.integrate import odeint\n",
        "\n",
        "\n",
        "#----------------------------------    \n",
        "# function that returns dy/dt\n",
        "def compute_dqdt(q,t,A):\n",
        "   \n",
        "    dqdt = np.empty((4,))        \n",
        "\n",
        "    dqdt = np.dot(A , q)\n",
        "    \n",
        "    return dqdt\n",
        "\n",
        "#----------------------------------\n",
        "UD=2\n",
        "#model dada\n",
        "m =10\n",
        "mC=m\n",
        "mB=3*m\n",
        "mF=UD*9\n",
        "g=9.81\n",
        "L = 1.5\n",
        "k=10000 \n",
        "kt=k*.5\n",
        "c = 500\n",
        " \n",
        "\n",
        "#initial conditions\n",
        "x10=0.0\n",
        "x20=0.0\n",
        "v10=1.0\n",
        "v20=0.0\n",
        "\n",
        "#system matrices\n",
        "ngl = 2\n",
        "M=np.array([[mC+mB+mF   , (mB/2+mF)*L],\n",
        "            [(mB/2+mF)*L, (mB/3+mF)*L**2]])\n",
        "\n",
        "C=np.array([[c, 0 ],\n",
        "            [0 , 0]])\n",
        "\n",
        "\n",
        "K=np.array([[k, 0],\n",
        "            [0, kt+(mF+mB/2)*g*L]])\n",
        "\n",
        "q0 = np.empty((4,))\n",
        "        \n",
        "#q0 = np.zeros((2*ngl))\n",
        "\n",
        "q0[0] = x10;\n",
        "q0[1] = x20;\n",
        "q0[2] = v10;\n",
        "q0[3] = v20;\n",
        "\n",
        "\n",
        "#modal analysis\n",
        "\n",
        "D,V=la.eig(np.dot(inv(M),K))\n",
        "\n",
        "print(V)\n",
        "#Obtendo as frequências\n",
        "omega1=np.sqrt(D[1])\n",
        "omega2=np.sqrt(D[0])\n",
        "\n",
        "print( ' frequencies')\n",
        "print( '1', omega1,omega1/2/Pi)\n",
        "print( '2', omega2,omega2/2/Pi)\n",
        "\n",
        "#Ajustando os autovetores\n",
        "v1 = V[:,1]\n",
        "v2 = V[:,0]\n",
        "\n",
        "v1 = v1/v1[0]\n",
        "v2 = v2/v2[0]\n",
        "\n",
        "\n",
        "print('autovetores normalizados\\n',v1,v2)\n",
        "\n",
        "\n",
        "'''   \n",
        "simulando no espaço de estados\n",
        "'''\n",
        "# cria o modelo no espaco de estados\n",
        "\n",
        "A=np.zeros((2*ngl,2*ngl))\n",
        "\n",
        "A[0  :ngl  ,ngl:2*ngl] = np.identity(ngl)\n",
        "A[ngl:2*ngl,  0  :ngl] = np.dot(-inv(M),K)\n",
        "A[ngl:2*ngl,ngl:2*ngl] = np.dot(-inv(M),C)\n",
        "\n",
        "print('matrix A\\n',A)\n",
        "\n",
        "# time points\n",
        "dt = 0.005\n",
        "tf = 5\n",
        "Nt = floor(tf/dt)\n",
        "t = np.linspace(0,tf,Nt)\n",
        "\n",
        "q = odeint(compute_dqdt,q0,t, args=(A, ))\n",
        "\n",
        "# google python odeint \n",
        "\n",
        "# plot \n",
        "fig, axs = plt.subplots(2)\n",
        "\n",
        "axs[0].plot(t,q[:,0],label=r'$x$')\n",
        "axs[0].plot(t,q[:,1],label=r'${\\theta}$')\n",
        "axs[0].set(ylabel='$x$(t)')\n",
        "\n",
        "axs[1].plot(t,q[:,2],label=r'$\\dot x$')\n",
        "axs[1].plot(t,q[:,3],label=r'$\\dot{\\theta}$')\n",
        "axs[1].set(xlabel='time t(s)')\n",
        "axs[1].set(ylabel='$\\dot x$(t)')\n",
        "leg = axs[0].legend();\n",
        "leg = axs[1].legend();\n",
        "\n",
        "plt.show()\n",
        "\n"
      ],
      "execution_count": null,
      "outputs": []
    },
    {
      "cell_type": "code",
      "metadata": {
        "id": "71OcCFB5jjZe"
      },
      "source": [
        "Dynamics\n"
      ],
      "execution_count": null,
      "outputs": []
    },
    {
      "cell_type": "markdown",
      "metadata": {
        "id": "V83_1MS5jhs-"
      },
      "source": [
        "# New section"
      ]
    },
    {
      "cell_type": "markdown",
      "metadata": {
        "id": "5fCEDCU_qrC0"
      },
      "source": [
        "<p><img alt=\"Colaboratory logo\" height=\"45px\" src=\"/img/colab_favicon.ico\" align=\"left\" hspace=\"10px\" vspace=\"0px\"></p>\n",
        "\n",
        "<h1>What is Colaboratory?</h1>\n",
        "\n",
        "Colaboratory, or 'Colab' for short, allows you to write and execute Python in your browser, with \n",
        "- Zero configuration required\n",
        "- Free access to GPUs\n",
        "- Easy sharing\n",
        "\n",
        "Whether you're a <strong>student</strong>, a <strong>data scientist</strong> or an <strong>AI researcher</strong>, Colab can make your work easier. Watch <a href=\"https://www.youtube.com/watch?v=inN8seMm7UI\">Introduction to Colab</a> to find out more, or just get started below!"
      ]
    },
    {
      "cell_type": "markdown",
      "metadata": {
        "id": "GJBs_flRovLc"
      },
      "source": [
        "## <strong>Getting started</strong>\n",
        "\n",
        "The document that you are reading is not a static web page, but an interactive environment called a <strong>Colab notebook</strong> that lets you write and execute code.\n",
        "\n",
        "For example, here is a <strong>code cell</strong> with a short Python script that computes a value, stores it in a variable and prints the result:"
      ]
    },
    {
      "cell_type": "code",
      "metadata": {
        "colab": {
          "base_uri": "https://localhost:8080/"
        },
        "id": "gJr_9dXGpJ05",
        "outputId": "e64ca660-5243-473c-f5b7-600468a25f95"
      },
      "source": [
        "seconds_in_a_day = 24 * 60 * 60\n",
        "seconds_in_a_day"
      ],
      "execution_count": 2,
      "outputs": [
        {
          "output_type": "execute_result",
          "data": {
            "text/plain": [
              "86400"
            ]
          },
          "metadata": {
            "tags": []
          },
          "execution_count": 2
        }
      ]
    },
    {
      "cell_type": "markdown",
      "metadata": {
        "id": "2fhs6GZ4qFMx"
      },
      "source": [
        "To execute the code in the above cell, select it with a click and then either press the play button to the left of the code, or use the keyboard shortcut 'Command/Ctrl+Enter'. To edit the code, just click the cell and start editing.\n",
        "\n",
        "Variables that you define in one cell can later be used in other cells:"
      ]
    },
    {
      "cell_type": "code",
      "metadata": {
        "colab": {
          "base_uri": "https://localhost:8080/"
        },
        "id": "-gE-Ez1qtyIA",
        "outputId": "beda7e7b-64d3-4cb4-de67-09f3eeb9a198"
      },
      "source": [
        "seconds_in_a_week = 7 * seconds_in_a_day\n",
        "seconds_in_a_week"
      ],
      "execution_count": 3,
      "outputs": [
        {
          "output_type": "execute_result",
          "data": {
            "text/plain": [
              "604800"
            ]
          },
          "metadata": {
            "tags": []
          },
          "execution_count": 3
        }
      ]
    },
    {
      "cell_type": "markdown",
      "metadata": {
        "id": "lSrWNr3MuFUS"
      },
      "source": [
        "Colab notebooks allow you to combine <strong>executable code</strong> and <strong>rich text</strong> in a single document, along with <strong>images</strong>, <strong>HTML</strong>, <strong>LaTeX</strong> and more. When you create your own Colab notebooks, they are stored in your Google Drive account. You can easily share your Colab notebooks with co-workers or friends, allowing them to comment on your notebooks or even edit them. To find out more, see <a href=\"/notebooks/basic_features_overview.ipynb\">Overview of Colab</a>. To create a new Colab notebook you can use the File menu above, or use the following link: <a href=\"http://colab.research.google.com#create=true\">Create a new Colab notebook</a>.\n",
        "\n",
        "Colab notebooks are Jupyter notebooks that are hosted by Colab. To find out more about the Jupyter project, see <a href=\"https://www.jupyter.org\">jupyter.org</a>."
      ]
    },
    {
      "cell_type": "markdown",
      "metadata": {
        "id": "UdRyKR44dcNI"
      },
      "source": [
        "## Data science\n",
        "\n",
        "With Colab you can harness the full power of popular Python libraries to analyse and visualise data. The code cell below uses <strong>numpy</strong> to generate some random data, and uses <strong>matplotlib</strong> to visualise it. To edit the code, just click the cell and start editing."
      ]
    },
    {
      "cell_type": "code",
      "metadata": {
        "colab": {
          "base_uri": "https://localhost:8080/",
          "height": 0
        },
        "id": "C4HZx7Gndbrh",
        "outputId": "e12a033f-6bdc-4b87-a1a6-c1eb64efd2e7"
      },
      "source": [
        "import numpy as np\n",
        "from matplotlib import pyplot as plt\n",
        "\n",
        "ys = 200 + np.random.randn(100)\n",
        "x = [x for x in range(len(ys))]\n",
        "\n",
        "plt.plot(x, ys, '-')\n",
        "plt.fill_between(x, ys, 195, where=(ys > 195), facecolor='g', alpha=0.6)\n",
        "\n",
        "plt.title(\"Sample Visualization\")\n",
        "plt.show()"
      ],
      "execution_count": 4,
      "outputs": [
        {
          "output_type": "display_data",
          "data": {
            "image/png": "[encoded data removed]",
            "text/plain": [
              "<Figure size 432x288 with 1 Axes>"
            ]
          },
          "metadata": {
            "tags": [],
            "needs_background": "light"
          }
        }
      ]
    },
    {
      "cell_type": "markdown",
      "metadata": {
        "id": "4_kCnsPUqS6o"
      },
      "source": [
        "You can import your own data into Colab notebooks from your Google Drive account, including from spreadsheets, as well as from GitHub and many other sources. To find out more about importing data, and how Colab can be used for data science, see the links below under <a href=\"#working-with-data\">Working with data</a>."
      ]
    },
    {
      "cell_type": "markdown",
      "metadata": {
        "id": "OwuxHmxllTwN"
      },
      "source": [
        "## Machine learning\n",
        "\n",
        "With Colab you can import an image dataset, train an image classifier on it, and evaluate the model, all in just <a href=\"https://colab.research.google.com/github/tensorflow/docs/blob/master/site/en/tutorials/quickstart/beginner.ipynb\">a few lines of code</a>. Colab notebooks execute code on Google's cloud servers, meaning you can leverage the power of Google hardware, including <a href=\"#using-accelerated-hardware\">GPUs and TPUs</a>, regardless of the power of your machine. All you need is a browser."
      ]
    },
    {
      "cell_type": "markdown",
      "metadata": {
        "id": "ufxBm1yRnruN"
      },
      "source": [
        "Colab is used extensively in the machine learning community with applications including:\n",
        "- Getting started with TensorFlow\n",
        "- Developing and training neural networks\n",
        "- Experimenting with TPUs\n",
        "- Disseminating AI research\n",
        "- Creating tutorials\n",
        "\n",
        "To see sample Colab notebooks that demonstrate machine learning applications, see the <a href=\"#machine-learning-examples\">machine learning examples</a> below."
      ]
    },
    {
      "cell_type": "markdown",
      "metadata": {
        "id": "-Rh3-Vt9Nev9"
      },
      "source": [
        "## More resources\n",
        "\n",
        "### Working with notebooks in Colab\n",
        "- [Overview of Colaboratory](/notebooks/basic_features_overview.ipynb)\n",
        "- [Guide to markdown](/notebooks/markdown_guide.ipynb)\n",
        "- [Importing libraries and installing dependencies](/notebooks/snippets/importing_libraries.ipynb)\n",
        "- [Saving and loading notebooks in GitHub](https://colab.research.google.com/github/googlecolab/colabtools/blob/master/notebooks/colab-github-demo.ipynb)\n",
        "- [Interactive forms](/notebooks/forms.ipynb)\n",
        "- [Interactive widgets](/notebooks/widgets.ipynb)\n",
        "- <img src=\"/img/new.png\" height=\"20px\" align=\"left\" hspace=\"4px\" alt=\"New\"></img>\n",
        " [TensorFlow 2 in Colab](/notebooks/tensorflow_version.ipynb)\n",
        "\n",
        "<a name=\"working-with-data\"></a>\n",
        "### Working with data\n",
        "- [Loading data: Drive, Sheets and Google Cloud Storage](/notebooks/io.ipynb) \n",
        "- [Charts: visualising data](/notebooks/charts.ipynb)\n",
        "- [Getting started with BigQuery](/notebooks/bigquery.ipynb)\n",
        "\n",
        "### Machine learning crash course\n",
        "These are a few of the notebooks from Google's online machine learning course. See the <a href=\"https://developers.google.com/machine-learning/crash-course/\">full course website</a> for more.\n",
        "- [Intro to Pandas](/notebooks/mlcc/intro_to_pandas.ipynb)\n",
        "- [TensorFlow concepts](/notebooks/mlcc/tensorflow_programming_concepts.ipynb)\n",
        "\n",
        "<a name=\"using-accelerated-hardware\"></a>\n",
        "### Using accelerated hardware\n",
        "- [TensorFlow with GPUs](/notebooks/gpu.ipynb)\n",
        "- [TensorFlow with TPUs](/notebooks/tpu.ipynb)"
      ]
    },
    {
      "cell_type": "markdown",
      "metadata": {
        "id": "P-H6Lw1vyNNd"
      },
      "source": [
        "<a name=\"machine-learning-examples\"></a>\n",
        "\n",
        "## Machine learning examples\n",
        "\n",
        "To see end-to-end examples of the interactive machine-learning analyses that Colaboratory makes possible, take a look at these tutorials using models from <a href=\"https://tfhub.dev\">TensorFlow Hub</a>.\n",
        "\n",
        "A few featured examples:\n",
        "\n",
        "- <a href=\"https://tensorflow.org/hub/tutorials/tf2_image_retraining\">Retraining an Image Classifier</a>: Build a Keras model on top of a pre-trained image classifier to distinguish flowers.\n",
        "- <a href=\"https://tensorflow.org/hub/tutorials/tf2_text_classification\">Text Classification</a>: Classify IMDB film reviews as either <em>positive</em> or <em>negative</em>.\n",
        "- <a href=\"https://tensorflow.org/hub/tutorials/tf2_arbitrary_image_stylization\">Style Transfer</a>: Use deep learning to transfer style between images.\n",
        "- <a href=\"https://tensorflow.org/hub/tutorials/retrieval_with_tf_hub_universal_encoder_qa\">Multilingual Universal Sentence Encoder Q&amp;A</a>: Use a machine-learning model to answer questions from the SQuAD dataset.\n",
        "- <a href=\"https://tensorflow.org/hub/tutorials/tweening_conv3d\">Video Interpolation</a>: Predict what happened in a video between the first and the last frame.\n"
      ]
    }
  ]
}